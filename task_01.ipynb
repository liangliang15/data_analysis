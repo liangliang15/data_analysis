{
 "cells": [
  {
   "cell_type": "code",
   "execution_count": 42,
   "metadata": {},
   "outputs": [],
   "source": [
    "import warnings\n",
    "warnings.filterwarnings('ignore')\n",
    "import pandas as pd\n",
    "import matplotlib.pyplot as plt\n",
    "import seaborn as sns"
   ]
  },
  {
   "cell_type": "code",
   "execution_count": 30,
   "metadata": {},
   "outputs": [
    {
     "name": "stdout",
     "output_type": "stream",
     "text": [
      "                 ID          area    totalFloor  saleSecHouseNum  \\\n",
      "count  4.144000e+04  41440.000000  41440.000000     41440.000000   \n",
      "mean   1.001221e+08     70.959409     11.413152         1.338538   \n",
      "std    9.376566e+04     88.119569      7.375203         3.180349   \n",
      "min    1.000000e+08      1.000000      0.000000         0.000000   \n",
      "25%    1.000470e+08     42.607500      6.000000         0.000000   \n",
      "50%    1.000960e+08     65.000000      7.000000         0.000000   \n",
      "75%    1.001902e+08     90.000000     16.000000         1.000000   \n",
      "max    1.003218e+08  15055.000000     88.000000        52.000000   \n",
      "\n",
      "       subwayStationNum  busStationNum  interSchoolNum     schoolNum  \\\n",
      "count      41440.000000   41440.000000    41440.000000  41440.000000   \n",
      "mean           5.741192     187.197153        1.506395     48.228813   \n",
      "std            4.604929     179.674625        1.687631     29.568448   \n",
      "min            0.000000      24.000000        0.000000      9.000000   \n",
      "25%            2.000000      74.000000        0.000000     24.000000   \n",
      "50%            5.000000     128.000000        1.000000     47.000000   \n",
      "75%            7.000000     258.000000        3.000000     61.000000   \n",
      "max           22.000000     824.000000        8.000000    142.000000   \n",
      "\n",
      "       privateSchoolNum   hospitalNum  ...  tradeLandArea  landTotalPrice  \\\n",
      "count      41440.000000  41440.000000  ...   41440.000000    4.144000e+04   \n",
      "mean           6.271911      4.308736  ...   12621.406425    1.045363e+08   \n",
      "std            4.946457      3.359714  ...   49853.120341    5.215216e+08   \n",
      "min            0.000000      0.000000  ...       0.000000    0.000000e+00   \n",
      "25%            2.000000      1.000000  ...       0.000000    0.000000e+00   \n",
      "50%            5.000000      4.000000  ...       0.000000    0.000000e+00   \n",
      "75%            9.000000      6.000000  ...       0.000000    0.000000e+00   \n",
      "max           24.000000     14.000000  ...  555508.010000    6.197570e+09   \n",
      "\n",
      "       landMeanPrice   totalWorkers     newWorkers  residentPopulation  \\\n",
      "count   41440.000000   41440.000000   41440.000000        41440.000000   \n",
      "mean      724.763918   77250.235497    1137.132095       294514.059459   \n",
      "std      3224.303831  132052.508523    7667.381627       196745.147181   \n",
      "min         0.000000     600.000000       0.000000        49330.000000   \n",
      "25%         0.000000   13983.000000       0.000000       165293.000000   \n",
      "50%         0.000000   38947.000000       0.000000       245872.000000   \n",
      "75%         0.000000   76668.000000       0.000000       330610.000000   \n",
      "max     37513.062490  855400.000000  143700.000000       928198.000000   \n",
      "\n",
      "                  pv            uv       lookNum    tradeMoney  \n",
      "count   41422.000000  41422.000000  41440.000000  4.144000e+04  \n",
      "mean    26945.663512   3089.077085      0.396260  8.837074e+03  \n",
      "std     32174.637924   2954.706517      1.653932  5.514287e+05  \n",
      "min        17.000000      6.000000      0.000000  0.000000e+00  \n",
      "25%      7928.000000   1053.000000      0.000000  2.800000e+03  \n",
      "50%     20196.000000   2375.000000      0.000000  4.000000e+03  \n",
      "75%     34485.000000   4233.000000      0.000000  5.500000e+03  \n",
      "max    621864.000000  39876.000000     37.000000  1.000000e+08  \n",
      "\n",
      "[8 rows x 40 columns]\n",
      "<class 'pandas.core.frame.DataFrame'>\n"
     ]
    }
   ],
   "source": [
    "#载入训练数据\n",
    "data_train = pd.read_csv('train_data.csv')\n",
    "#print(data_train.head())\n",
    "#训练数据情况\n",
    "#print(data_train.info())\n",
    "print(data_train.describe())\n",
    "print(type(data_train))"
   ]
  },
  {
   "cell_type": "code",
   "execution_count": 34,
   "metadata": {},
   "outputs": [
    {
     "data": {
      "text/html": [
       "<div>\n",
       "<style scoped>\n",
       "    .dataframe tbody tr th:only-of-type {\n",
       "        vertical-align: middle;\n",
       "    }\n",
       "\n",
       "    .dataframe tbody tr th {\n",
       "        vertical-align: top;\n",
       "    }\n",
       "\n",
       "    .dataframe thead th {\n",
       "        text-align: right;\n",
       "    }\n",
       "</style>\n",
       "<table border=\"1\" class=\"dataframe\">\n",
       "  <thead>\n",
       "    <tr style=\"text-align: right;\">\n",
       "      <th></th>\n",
       "      <th>index</th>\n",
       "      <th>sum</th>\n",
       "      <th>exsitNum</th>\n",
       "      <th>missingNum</th>\n",
       "      <th>missingRatio</th>\n",
       "      <th>dtype</th>\n",
       "    </tr>\n",
       "  </thead>\n",
       "  <tbody>\n",
       "    <tr>\n",
       "      <th>0</th>\n",
       "      <td>pv</td>\n",
       "      <td>NaN</td>\n",
       "      <td>41422</td>\n",
       "      <td>18</td>\n",
       "      <td>0.043436</td>\n",
       "      <td>float64</td>\n",
       "    </tr>\n",
       "    <tr>\n",
       "      <th>1</th>\n",
       "      <td>uv</td>\n",
       "      <td>NaN</td>\n",
       "      <td>41422</td>\n",
       "      <td>18</td>\n",
       "      <td>0.043436</td>\n",
       "      <td>float64</td>\n",
       "    </tr>\n",
       "  </tbody>\n",
       "</table>\n",
       "</div>"
      ],
      "text/plain": [
       "  index  sum  exsitNum  missingNum  missingRatio    dtype\n",
       "0    pv  NaN     41422          18      0.043436  float64\n",
       "1    uv  NaN     41422          18      0.043436  float64"
      ]
     },
     "execution_count": 34,
     "metadata": {},
     "output_type": "execute_result"
    }
   ],
   "source": [
    "#缺失值分析\n",
    "#查看每个字段数据的缺失情况\n",
    "\n",
    "def missing_values(data):\n",
    "    alldata_na = pd.DataFrame(columns=('sum','exsitNum','missingNum','missingRatio','dtype'))\n",
    "    alldata_na['missingNum'] = data.isnull().sum()\n",
    "    alldata_na['exsitNum'] = len(data) - alldata_na['missingNum']\n",
    "    alldata_na['missingRatio'] = alldata_na['missingNum']/len(data)*100\n",
    "    alldata_na['dtype'] = data.dtypes\n",
    "    #按照缺失值的数量降序排序\n",
    "    alldata_na = alldata_na[alldata_na['missingNum']>0].reset_index().sort_values(by=['missingNum'],ascending=False)\n",
    "    return alldata_na\n",
    "missing_values(data_train)"
   ]
  },
  {
   "cell_type": "code",
   "execution_count": 35,
   "metadata": {},
   "outputs": [
    {
     "name": "stdout",
     "output_type": "stream",
     "text": [
      "单调特征： tradeTime\n",
      "单调特征值个数： 24085\n",
      "单调特征值比例： 0.5812017374517374\n"
     ]
    }
   ],
   "source": [
    "#单调特征列分析\n",
    "def increasing(vals):\n",
    "    cnt = 0\n",
    "    for i in range(len(vals)-1):\n",
    "        if vals[i+1]>vals[i]:\n",
    "            cnt += 1\n",
    "    return cnt\n",
    "fea_cols = [col for col in data_train.columns]\n",
    "for col in fea_cols:\n",
    "    cnt = increasing(data_train[col].values)\n",
    "    if cnt/data_train.shape[0]>=0.55:\n",
    "        print('单调特征：',col)\n",
    "        print('单调特征值个数：', cnt)\n",
    "        print('单调特征值比例：', cnt / data_train.shape[0])"
   ]
  },
  {
   "cell_type": "code",
   "execution_count": 39,
   "metadata": {},
   "outputs": [
    {
     "name": "stdout",
     "output_type": "stream",
     "text": [
      "ID的特征分布如下：\n",
      "100077566    1\n",
      "100218284    1\n",
      "100027779    1\n",
      "100034152    1\n",
      "100097409    1\n",
      "            ..\n",
      "100064762    1\n",
      "100276950    1\n",
      "100054465    1\n",
      "100086483    1\n",
      "100029021    1\n",
      "Name: ID, Length: 41440, dtype: int64\n"
     ]
    },
    {
     "data": {
      "image/png": "[encoded data removed]",
      "text/plain": [
       "<Figure size 432x288 with 1 Axes>"
      ]
     },
     "metadata": {
      "needs_background": "light"
     },
     "output_type": "display_data"
    },
    {
     "name": "stdout",
     "output_type": "stream",
     "text": [
      "area的特征分布如下：\n",
      "90.00     303\n",
      "89.00     266\n",
      "10.00     203\n",
      "60.00     202\n",
      "50.00     193\n",
      "         ... \n",
      "235.50      1\n",
      "159.77      1\n",
      "122.54      1\n",
      "116.17      1\n",
      "138.53      1\n",
      "Name: area, Length: 10353, dtype: int64\n"
     ]
    },
    {
     "data": {
      "image/png": "[encoded data removed]",
      "text/plain": [
       "<Figure size 432x288 with 1 Axes>"
      ]
     },
     "metadata": {
      "needs_background": "light"
     },
     "output_type": "display_data"
    },
    {
     "name": "stdout",
     "output_type": "stream",
     "text": [
      "rentType的特征分布如下：\n",
      "未知方式    30759\n",
      "整租       5472\n",
      "合租       5204\n",
      "--          5\n",
      "Name: rentType, dtype: int64\n"
     ]
    },
    {
     "data": {
      "image/png": "[encoded data removed]",
      "text/plain": [
       "<Figure size 432x288 with 1 Axes>"
      ]
     },
     "metadata": {
      "needs_background": "light"
     },
     "output_type": "display_data"
    },
    {
     "name": "stdout",
     "output_type": "stream",
     "text": [
      "houseType的特征分布如下：\n",
      "1室1厅1卫    9805\n",
      "2室1厅1卫    8512\n",
      "2室2厅1卫    6783\n",
      "3室1厅1卫    3992\n",
      "3室2厅2卫    2737\n",
      "          ... \n",
      "7室1厅7卫       1\n",
      "6室2厅5卫       1\n",
      "7室3厅4卫       1\n",
      "0室0厅1卫       1\n",
      "4室1厅4卫       1\n",
      "Name: houseType, Length: 104, dtype: int64\n"
     ]
    },
    {
     "data": {
      "image/png": "[encoded data removed]",
      "text/plain": [
       "<Figure size 432x288 with 1 Axes>"
      ]
     },
     "metadata": {
      "needs_background": "light"
     },
     "output_type": "display_data"
    },
    {
     "name": "stdout",
     "output_type": "stream",
     "text": [
      "houseFloor的特征分布如下：\n",
      "中    15458\n",
      "高    14066\n",
      "低    11916\n",
      "Name: houseFloor, dtype: int64\n"
     ]
    },
    {
     "data": {
      "image/png": "[encoded data removed]",
      "text/plain": [
       "<Figure size 432x288 with 1 Axes>"
      ]
     },
     "metadata": {
      "needs_background": "light"
     },
     "output_type": "display_data"
    },
    {
     "name": "stdout",
     "output_type": "stream",
     "text": [
      "totalFloor的特征分布如下：\n",
      "6     15797\n",
      "18     3553\n",
      "11     2884\n",
      "5      2730\n",
      "14     2166\n",
      "17     1375\n",
      "7      1362\n",
      "16     1147\n",
      "13      882\n",
      "15      809\n",
      "12      738\n",
      "24      732\n",
      "8       624\n",
      "4       486\n",
      "19      467\n",
      "21      466\n",
      "20      457\n",
      "3       446\n",
      "10      401\n",
      "27      399\n",
      "9       393\n",
      "25      390\n",
      "22      309\n",
      "26      300\n",
      "29      289\n",
      "28      258\n",
      "32      234\n",
      "31      211\n",
      "2       193\n",
      "23      161\n",
      "30      144\n",
      "33      117\n",
      "1        98\n",
      "37       96\n",
      "36       57\n",
      "35       57\n",
      "34       54\n",
      "38       33\n",
      "49       25\n",
      "41       17\n",
      "56       17\n",
      "43       12\n",
      "40       11\n",
      "39       10\n",
      "53        7\n",
      "62        5\n",
      "0         5\n",
      "47        4\n",
      "60        3\n",
      "45        3\n",
      "88        2\n",
      "59        1\n",
      "61        1\n",
      "58        1\n",
      "51        1\n",
      "Name: totalFloor, dtype: int64\n"
     ]
    },
    {
     "data": {
      "image/png": "[encoded data removed]",
      "text/plain": [
       "<Figure size 432x288 with 1 Axes>"
      ]
     },
     "metadata": {
      "needs_background": "light"
     },
     "output_type": "display_data"
    },
    {
     "name": "stdout",
     "output_type": "stream",
     "text": [
      "houseToward的特征分布如下：\n",
      "南       34377\n",
      "南北       2254\n",
      "北        2043\n",
      "暂无数据      963\n",
      "东南        655\n",
      "东         552\n",
      "西         264\n",
      "西南        250\n",
      "西北         58\n",
      "东西         24\n",
      "Name: houseToward, dtype: int64\n"
     ]
    },
    {
     "data": {
      "image/png": "[encoded data removed]",
      "text/plain": [
       "<Figure size 432x288 with 1 Axes>"
      ]
     },
     "metadata": {
      "needs_background": "light"
     },
     "output_type": "display_data"
    },
    {
     "name": "stdout",
     "output_type": "stream",
     "text": [
      "houseDecoration的特征分布如下：\n",
      "其他    29040\n",
      "精装    10918\n",
      "简装     1171\n",
      "毛坯      311\n",
      "Name: houseDecoration, dtype: int64\n"
     ]
    },
    {
     "data": {
      "image/png": "[encoded data removed]",
      "text/plain": [
       "<Figure size 432x288 with 1 Axes>"
      ]
     },
     "metadata": {
      "needs_background": "light"
     },
     "output_type": "display_data"
    },
    {
     "name": "stdout",
     "output_type": "stream",
     "text": [
      "communityName的特征分布如下：\n",
      "XQ01834    358\n",
      "XQ01274    192\n",
      "XQ02273    188\n",
      "XQ03110    185\n",
      "XQ02337    173\n",
      "          ... \n",
      "XQ03909      1\n",
      "XQ02892      1\n",
      "XQ02874      1\n",
      "XQ03948      1\n",
      "XQ00263      1\n",
      "Name: communityName, Length: 4236, dtype: int64\n",
      "city的特征分布如下：\n",
      "SH    41440\n",
      "Name: city, dtype: int64\n"
     ]
    },
    {
     "data": {
      "image/png": "[encoded data removed]",
      "text/plain": [
       "<Figure size 432x288 with 1 Axes>"
      ]
     },
     "metadata": {
      "needs_background": "light"
     },
     "output_type": "display_data"
    },
    {
     "name": "stdout",
     "output_type": "stream",
     "text": [
      "region的特征分布如下：\n",
      "RG00002    11437\n",
      "RG00005     5739\n",
      "RG00003     4186\n",
      "RG00010     3640\n",
      "RG00012     3368\n",
      "RG00004     3333\n",
      "RG00006     1961\n",
      "RG00007     1610\n",
      "RG00008     1250\n",
      "RG00013     1215\n",
      "RG00001     1157\n",
      "RG00014     1069\n",
      "RG00011      793\n",
      "RG00009      681\n",
      "RG00015        1\n",
      "Name: region, dtype: int64\n"
     ]
    },
    {
     "data": {
      "image/png": "[encoded data removed]",
      "text/plain": [
       "<Figure size 432x288 with 1 Axes>"
      ]
     },
     "metadata": {
      "needs_background": "light"
     },
     "output_type": "display_data"
    },
    {
     "name": "stdout",
     "output_type": "stream",
     "text": [
      "plate的特征分布如下：\n",
      "BK00031    1958\n",
      "BK00033    1837\n",
      "BK00045    1816\n",
      "BK00055    1566\n",
      "BK00056    1516\n",
      "           ... \n",
      "BK00016      40\n",
      "BK00036      33\n",
      "BK00058      15\n",
      "BK00032       3\n",
      "BK00001       1\n",
      "Name: plate, Length: 66, dtype: int64\n"
     ]
    },
    {
     "data": {
      "image/png": "[encoded data removed]",
      "text/plain": [
       "<Figure size 432x288 with 1 Axes>"
      ]
     },
     "metadata": {
      "needs_background": "light"
     },
     "output_type": "display_data"
    },
    {
     "name": "stdout",
     "output_type": "stream",
     "text": [
      "buildYear的特征分布如下：\n",
      "1994    2851\n",
      "暂无信息    2808\n",
      "2006    2007\n",
      "2007    1851\n",
      "2008    1849\n",
      "        ... \n",
      "1939       2\n",
      "1926       2\n",
      "1962       1\n",
      "1950       1\n",
      "1951       1\n",
      "Name: buildYear, Length: 80, dtype: int64\n"
     ]
    },
    {
     "data": {
      "image/png": "[encoded data removed]",
      "text/plain": [
       "<Figure size 432x288 with 1 Axes>"
      ]
     },
     "metadata": {
      "needs_background": "light"
     },
     "output_type": "display_data"
    },
    {
     "name": "stdout",
     "output_type": "stream",
     "text": [
      "saleSecHouseNum的特征分布如下：\n",
      "0     29937\n",
      "1      2215\n",
      "2      2020\n",
      "3      1654\n",
      "4      1290\n",
      "5       822\n",
      "6       716\n",
      "7       614\n",
      "8       460\n",
      "9       299\n",
      "11      291\n",
      "10      245\n",
      "14      179\n",
      "13      154\n",
      "12      147\n",
      "18       80\n",
      "27       58\n",
      "15       54\n",
      "19       43\n",
      "21       40\n",
      "17       34\n",
      "16       21\n",
      "23       21\n",
      "20       20\n",
      "26       15\n",
      "38        6\n",
      "34        3\n",
      "52        2\n",
      "Name: saleSecHouseNum, dtype: int64\n"
     ]
    },
    {
     "data": {
      "image/png": "[encoded data removed]",
      "text/plain": [
       "<Figure size 432x288 with 1 Axes>"
      ]
     },
     "metadata": {
      "needs_background": "light"
     },
     "output_type": "display_data"
    },
    {
     "name": "stdout",
     "output_type": "stream",
     "text": [
      "subwayStationNum的特征分布如下：\n",
      "6     6778\n",
      "2     6187\n",
      "3     5972\n",
      "5     4937\n",
      "1     3440\n",
      "7     3309\n",
      "11    2400\n",
      "4     1932\n",
      "14    1794\n",
      "22    1375\n",
      "9     1266\n",
      "13    1137\n",
      "0      913\n",
      "Name: subwayStationNum, dtype: int64\n"
     ]
    },
    {
     "data": {
      "image/png": "[encoded data removed]",
      "text/plain": [
       "<Figure size 432x288 with 1 Axes>"
      ]
     },
     "metadata": {
      "needs_background": "light"
     },
     "output_type": "display_data"
    },
    {
     "name": "stdout",
     "output_type": "stream",
     "text": [
      "busStationNum的特征分布如下：\n",
      "151    2043\n",
      "461    1958\n",
      "96     1837\n",
      "824    1816\n",
      "258    1516\n",
      "276    1375\n",
      "92     1305\n",
      "144    1266\n",
      "306    1256\n",
      "364    1253\n",
      "167    1227\n",
      "98     1183\n",
      "178    1156\n",
      "441    1137\n",
      "56     1016\n",
      "60      979\n",
      "101     906\n",
      "172     880\n",
      "78      849\n",
      "72      834\n",
      "190     819\n",
      "67      745\n",
      "95      719\n",
      "138     679\n",
      "88      671\n",
      "62      651\n",
      "27      646\n",
      "196     618\n",
      "156     614\n",
      "83      613\n",
      "114     610\n",
      "36      590\n",
      "29      579\n",
      "82      577\n",
      "105     549\n",
      "45      523\n",
      "42      498\n",
      "34      455\n",
      "68      444\n",
      "52      435\n",
      "169     398\n",
      "24      397\n",
      "79      357\n",
      "74      344\n",
      "41      343\n",
      "25      281\n",
      "331     278\n",
      "48      219\n",
      "184     211\n",
      "30      189\n",
      "70      157\n",
      "47      127\n",
      "128     122\n",
      "141      98\n",
      "387      40\n",
      "131      33\n",
      "264      15\n",
      "284       3\n",
      "356       1\n",
      "Name: busStationNum, dtype: int64\n"
     ]
    },
    {
     "data": {
      "image/png": "[encoded data removed]",
      "text/plain": [
       "<Figure size 432x288 with 1 Axes>"
      ]
     },
     "metadata": {
      "needs_background": "light"
     },
     "output_type": "display_data"
    },
    {
     "name": "stdout",
     "output_type": "stream",
     "text": [
      "interSchoolNum的特征分布如下：\n",
      "0    16177\n",
      "1     8252\n",
      "2     6363\n",
      "3     5319\n",
      "4     3677\n",
      "6     1217\n",
      "8      435\n",
      "Name: interSchoolNum, dtype: int64\n"
     ]
    },
    {
     "data": {
      "image/png": "[encoded data removed]",
      "text/plain": [
       "<Figure size 432x288 with 1 Axes>"
      ]
     },
     "metadata": {
      "needs_background": "light"
     },
     "output_type": "display_data"
    },
    {
     "name": "stdout",
     "output_type": "stream",
     "text": [
      "schoolNum的特征分布如下：\n",
      "53     2853\n",
      "21     2571\n",
      "48     2498\n",
      "10     2310\n",
      "71     1958\n",
      "61     1927\n",
      "99     1816\n",
      "30     1600\n",
      "98     1516\n",
      "13     1508\n",
      "24     1468\n",
      "142    1375\n",
      "22     1305\n",
      "60     1253\n",
      "47     1141\n",
      "62     1137\n",
      "32     1068\n",
      "43      979\n",
      "28      947\n",
      "50      906\n",
      "64      834\n",
      "69      745\n",
      "41      680\n",
      "37      651\n",
      "20      618\n",
      "39      613\n",
      "44      610\n",
      "38      523\n",
      "18      513\n",
      "59      412\n",
      "23      398\n",
      "45      397\n",
      "72      344\n",
      "9       286\n",
      "65      278\n",
      "29      231\n",
      "74      219\n",
      "26      211\n",
      "14      189\n",
      "11      165\n",
      "57      127\n",
      "16      122\n",
      "15       98\n",
      "52       40\n",
      "Name: schoolNum, dtype: int64\n"
     ]
    },
    {
     "data": {
      "image/png": "[encoded data removed]",
      "text/plain": [
       "<Figure size 432x288 with 1 Axes>"
      ]
     },
     "metadata": {
      "needs_background": "light"
     },
     "output_type": "display_data"
    },
    {
     "name": "stdout",
     "output_type": "stream",
     "text": [
      "privateSchoolNum的特征分布如下：\n",
      "2     8592\n",
      "1     5534\n",
      "9     4961\n",
      "5     4118\n",
      "8     3857\n",
      "13    1860\n",
      "15    1837\n",
      "7     1429\n",
      "3     1428\n",
      "12    1375\n",
      "4     1313\n",
      "6     1242\n",
      "11     899\n",
      "0      857\n",
      "16     849\n",
      "24     679\n",
      "10     610\n",
      "Name: privateSchoolNum, dtype: int64\n"
     ]
    },
    {
     "data": {
      "image/png": "[encoded data removed]",
      "text/plain": [
       "<Figure size 432x288 with 1 Axes>"
      ]
     },
     "metadata": {
      "needs_background": "light"
     },
     "output_type": "display_data"
    },
    {
     "name": "stdout",
     "output_type": "stream",
     "text": [
      "hospitalNum的特征分布如下：\n",
      "1     7720\n",
      "6     7162\n",
      "2     6343\n",
      "5     5404\n",
      "3     3135\n",
      "0     2661\n",
      "8     2636\n",
      "4     2051\n",
      "11    1816\n",
      "14    1375\n",
      "9     1137\n",
      "Name: hospitalNum, dtype: int64\n"
     ]
    },
    {
     "data": {
      "image/png": "[encoded data removed]",
      "text/plain": [
       "<Figure size 432x288 with 1 Axes>"
      ]
     },
     "metadata": {
      "needs_background": "light"
     },
     "output_type": "display_data"
    },
    {
     "name": "stdout",
     "output_type": "stream",
     "text": [
      "drugStoreNum的特征分布如下：\n",
      "40     2623\n",
      "39     2218\n",
      "31     2080\n",
      "69     2043\n",
      "106    1958\n",
      "34     1865\n",
      "36     1837\n",
      "174    1816\n",
      "88     1516\n",
      "35     1503\n",
      "118    1375\n",
      "37     1274\n",
      "65     1266\n",
      "94     1256\n",
      "83     1253\n",
      "54     1227\n",
      "47     1156\n",
      "145    1137\n",
      "27     1110\n",
      "22     1006\n",
      "24      979\n",
      "15      964\n",
      "11      927\n",
      "41      852\n",
      "67      679\n",
      "49      618\n",
      "48      610\n",
      "12      590\n",
      "28      523\n",
      "17      500\n",
      "19      435\n",
      "55      398\n",
      "20      358\n",
      "33      357\n",
      "85      278\n",
      "13      253\n",
      "8       189\n",
      "29      157\n",
      "23      122\n",
      "21       98\n",
      "25       33\n",
      "52        1\n",
      "Name: drugStoreNum, dtype: int64\n"
     ]
    },
    {
     "data": {
      "image/png": "[encoded data removed]",
      "text/plain": [
       "<Figure size 432x288 with 1 Axes>"
      ]
     },
     "metadata": {
      "needs_background": "light"
     },
     "output_type": "display_data"
    },
    {
     "name": "stdout",
     "output_type": "stream",
     "text": [
      "gymNum的特征分布如下：\n",
      "16    3107\n",
      "26    2916\n",
      "25    2488\n",
      "34    2488\n",
      "41    2043\n",
      "27    2011\n",
      "36    1958\n",
      "88    1816\n",
      "35    1528\n",
      "52    1516\n",
      "64    1375\n",
      "37    1256\n",
      "40    1254\n",
      "30    1253\n",
      "23    1141\n",
      "84    1137\n",
      "38    1111\n",
      "28     956\n",
      "43     910\n",
      "56     906\n",
      "20     846\n",
      "32     834\n",
      "13     803\n",
      "82     671\n",
      "6      661\n",
      "15     590\n",
      "10     500\n",
      "5      471\n",
      "78     444\n",
      "22     398\n",
      "39     397\n",
      "8      393\n",
      "48     278\n",
      "1      253\n",
      "21     219\n",
      "12     219\n",
      "14     165\n",
      "18     127\n",
      "19       1\n",
      "Name: gymNum, dtype: int64\n"
     ]
    },
    {
     "data": {
      "image/png": "[encoded data removed]",
      "text/plain": [
       "<Figure size 432x288 with 1 Axes>"
      ]
     },
     "metadata": {
      "needs_background": "light"
     },
     "output_type": "display_data"
    },
    {
     "name": "stdout",
     "output_type": "stream",
     "text": [
      "bankNum的特征分布如下：\n",
      "21     3146\n",
      "43     3078\n",
      "86     2393\n",
      "34     2043\n",
      "52     1837\n",
      "119    1816\n",
      "50     1727\n",
      "31     1686\n",
      "75     1516\n",
      "95     1375\n",
      "16     1301\n",
      "35     1289\n",
      "47     1253\n",
      "22     1156\n",
      "91     1137\n",
      "29     1136\n",
      "23     1016\n",
      "37      979\n",
      "18      930\n",
      "62      906\n",
      "13      880\n",
      "53      834\n",
      "28      757\n",
      "46      745\n",
      "24      741\n",
      "207     671\n",
      "41      651\n",
      "27      646\n",
      "7       534\n",
      "38      455\n",
      "42      412\n",
      "69      397\n",
      "20      357\n",
      "15      348\n",
      "92      278\n",
      "33      231\n",
      "11      189\n",
      "12      165\n",
      "98      157\n",
      "9       122\n",
      "10       98\n",
      "14       33\n",
      "32       15\n",
      "25        3\n",
      "49        1\n",
      "Name: bankNum, dtype: int64\n"
     ]
    },
    {
     "data": {
      "image/png": "[encoded data removed]",
      "text/plain": [
       "<Figure size 432x288 with 1 Axes>"
      ]
     },
     "metadata": {
      "needs_background": "light"
     },
     "output_type": "display_data"
    },
    {
     "name": "stdout",
     "output_type": "stream",
     "text": [
      "shopNum的特征分布如下：\n",
      "154    2486\n",
      "236    2043\n",
      "598    1958\n",
      "162    1837\n",
      "824    1816\n",
      "341    1516\n",
      "483    1375\n",
      "171    1305\n",
      "301    1266\n",
      "419    1256\n",
      "358    1253\n",
      "167    1227\n",
      "214    1156\n",
      "671    1137\n",
      "189    1068\n",
      "215    1016\n",
      "85      979\n",
      "150     930\n",
      "231     906\n",
      "175     880\n",
      "224     846\n",
      "223     834\n",
      "211     745\n",
      "199     671\n",
      "65      646\n",
      "206     614\n",
      "243     613\n",
      "318     610\n",
      "76      590\n",
      "200     549\n",
      "96      523\n",
      "118     500\n",
      "97      498\n",
      "142     455\n",
      "160     444\n",
      "90      435\n",
      "354     412\n",
      "140     397\n",
      "151     357\n",
      "109     348\n",
      "306     344\n",
      "80      343\n",
      "100     329\n",
      "10      281\n",
      "404     278\n",
      "84      253\n",
      "143     219\n",
      "163     211\n",
      "42      189\n",
      "99      165\n",
      "245     157\n",
      "77      122\n",
      "112      33\n",
      "134      15\n",
      "340       3\n",
      "353       1\n",
      "Name: shopNum, dtype: int64\n"
     ]
    },
    {
     "data": {
      "image/png": "[encoded data removed]",
      "text/plain": [
       "<Figure size 432x288 with 1 Axes>"
      ]
     },
     "metadata": {
      "needs_background": "light"
     },
     "output_type": "display_data"
    },
    {
     "name": "stdout",
     "output_type": "stream",
     "text": [
      "parkNum的特征分布如下：\n",
      "8     6068\n",
      "3     5166\n",
      "6     4683\n",
      "7     3906\n",
      "5     3672\n",
      "4     2480\n",
      "1     2242\n",
      "11    2134\n",
      "24    1816\n",
      "0     1508\n",
      "23    1375\n",
      "10    1266\n",
      "14    1256\n",
      "2     1172\n",
      "30    1137\n",
      "13     671\n",
      "12     610\n",
      "26     278\n",
      "Name: parkNum, dtype: int64\n"
     ]
    },
    {
     "data": {
      "image/png": "[encoded data removed]",
      "text/plain": [
       "<Figure size 432x288 with 1 Axes>"
      ]
     },
     "metadata": {
      "needs_background": "light"
     },
     "output_type": "display_data"
    },
    {
     "name": "stdout",
     "output_type": "stream",
     "text": [
      "mallNum的特征分布如下：\n",
      "5     5806\n",
      "7     5558\n",
      "2     5150\n",
      "6     4404\n",
      "4     3784\n",
      "1     3322\n",
      "3     2472\n",
      "12    1958\n",
      "19    1816\n",
      "8     1652\n",
      "10    1257\n",
      "9     1247\n",
      "16    1137\n",
      "0      705\n",
      "15     671\n",
      "11     344\n",
      "14     157\n",
      "Name: mallNum, dtype: int64\n"
     ]
    },
    {
     "data": {
      "image/png": "[encoded data removed]",
      "text/plain": [
       "<Figure size 432x288 with 1 Axes>"
      ]
     },
     "metadata": {
      "needs_background": "light"
     },
     "output_type": "display_data"
    },
    {
     "name": "stdout",
     "output_type": "stream",
     "text": [
      "superMarketNum的特征分布如下：\n",
      "56     3173\n",
      "78     2043\n",
      "119    1958\n",
      "47     1837\n",
      "299    1816\n",
      "130    1516\n",
      "154    1375\n",
      "63     1369\n",
      "74     1305\n",
      "109    1266\n",
      "126    1256\n",
      "131    1253\n",
      "100    1227\n",
      "60     1156\n",
      "159    1137\n",
      "32     1021\n",
      "37     1016\n",
      "30      979\n",
      "46      930\n",
      "61      880\n",
      "21      867\n",
      "58      849\n",
      "22      809\n",
      "53      745\n",
      "31      714\n",
      "75      679\n",
      "55      671\n",
      "36      651\n",
      "15      646\n",
      "98      618\n",
      "103     610\n",
      "38      503\n",
      "41      500\n",
      "42      455\n",
      "51      445\n",
      "43      444\n",
      "35      435\n",
      "88      398\n",
      "48      357\n",
      "11      281\n",
      "145     278\n",
      "16      253\n",
      "23      231\n",
      "5       189\n",
      "29      157\n",
      "34       98\n",
      "49       40\n",
      "83        3\n",
      "71        1\n",
      "Name: superMarketNum, dtype: int64\n"
     ]
    },
    {
     "data": {
      "image/png": "[encoded data removed]",
      "text/plain": [
       "<Figure size 432x288 with 1 Axes>"
      ]
     },
     "metadata": {
      "needs_background": "light"
     },
     "output_type": "display_data"
    },
    {
     "name": "stdout",
     "output_type": "stream",
     "text": [
      "totalTradeMoney的特征分布如下：\n",
      "0             423\n",
      "1095010000    384\n",
      "1492450000    374\n",
      "878170000     339\n",
      "274540000     314\n",
      "             ... \n",
      "38601000        1\n",
      "40660000        1\n",
      "587540000       1\n",
      "64970000        1\n",
      "391150000       1\n",
      "Name: totalTradeMoney, Length: 704, dtype: int64\n"
     ]
    },
    {
     "data": {
      "image/png": "[encoded data removed]",
      "text/plain": [
       "<Figure size 432x288 with 1 Axes>"
      ]
     },
     "metadata": {
      "needs_background": "light"
     },
     "output_type": "display_data"
    },
    {
     "name": "stdout",
     "output_type": "stream",
     "text": [
      "totalTradeArea的特征分布如下：\n",
      "0.00        423\n",
      "39571.94    384\n",
      "28948.29    374\n",
      "21523.39    339\n",
      "7307.14     314\n",
      "           ... \n",
      "3076.62       1\n",
      "5931.38       1\n",
      "25277.65      1\n",
      "4333.89       1\n",
      "3477.78       1\n",
      "Name: totalTradeArea, Length: 705, dtype: int64\n"
     ]
    },
    {
     "data": {
      "image/png": "[encoded data removed]",
      "text/plain": [
       "<Figure size 432x288 with 1 Axes>"
      ]
     },
     "metadata": {
      "needs_background": "light"
     },
     "output_type": "display_data"
    },
    {
     "name": "stdout",
     "output_type": "stream",
     "text": [
      "tradeMeanPrice的特征分布如下：\n",
      "0.00000        423\n",
      "27671.37522    384\n",
      "51555.72229    374\n",
      "40800.72888    339\n",
      "37571.47119    314\n",
      "              ... \n",
      "14991.15114      1\n",
      "23243.45815      1\n",
      "18185.55382      1\n",
      "18565.74483      1\n",
      "27332.59376      1\n",
      "Name: tradeMeanPrice, Length: 705, dtype: int64\n"
     ]
    },
    {
     "data": {
      "image/png": "[encoded data removed]",
      "text/plain": [
       "<Figure size 432x288 with 1 Axes>"
      ]
     },
     "metadata": {
      "needs_background": "light"
     },
     "output_type": "display_data"
    },
    {
     "name": "stdout",
     "output_type": "stream",
     "text": [
      "tradeSecNum的特征分布如下：\n",
      "441    697\n",
      "306    550\n",
      "391    527\n",
      "363    508\n",
      "180    469\n",
      "      ... \n",
      "60       7\n",
      "32       5\n",
      "103      4\n",
      "186      2\n",
      "374      1\n",
      "Name: tradeSecNum, Length: 333, dtype: int64\n"
     ]
    },
    {
     "data": {
      "image/png": "[encoded data removed]",
      "text/plain": [
       "<Figure size 432x288 with 1 Axes>"
      ]
     },
     "metadata": {
      "needs_background": "light"
     },
     "output_type": "display_data"
    },
    {
     "name": "stdout",
     "output_type": "stream",
     "text": [
      "totalNewTradeMoney的特征分布如下：\n",
      "0             8179\n",
      "638574496      384\n",
      "108869018      374\n",
      "1116882        339\n",
      "2128312204     314\n",
      "              ... \n",
      "55724604         1\n",
      "388400057        1\n",
      "36991652         1\n",
      "285756825        1\n",
      "20569829         1\n",
      "Name: totalNewTradeMoney, Length: 558, dtype: int64\n"
     ]
    },
    {
     "data": {
      "image/png": "[encoded data removed]",
      "text/plain": [
       "<Figure size 432x288 with 1 Axes>"
      ]
     },
     "metadata": {
      "needs_background": "light"
     },
     "output_type": "display_data"
    },
    {
     "name": "stdout",
     "output_type": "stream",
     "text": [
      "totalNewTradeArea的特征分布如下：\n",
      "0        8179\n",
      "15669     384\n",
      "1528      374\n",
      "197       356\n",
      "63        339\n",
      "         ... \n",
      "1597        1\n",
      "933         1\n",
      "255         1\n",
      "6808        1\n",
      "6699        1\n",
      "Name: totalNewTradeArea, Length: 533, dtype: int64\n"
     ]
    },
    {
     "data": {
      "image/png": "[encoded data removed]",
      "text/plain": [
       "<Figure size 432x288 with 1 Axes>"
      ]
     },
     "metadata": {
      "needs_background": "light"
     },
     "output_type": "display_data"
    },
    {
     "name": "stdout",
     "output_type": "stream",
     "text": [
      "tradeNewMeanPrice的特征分布如下：\n",
      "0.00000        8179\n",
      "40754.00447     384\n",
      "71249.35733     374\n",
      "17728.28571     339\n",
      "35108.49712     314\n",
      "               ... \n",
      "17395.30472       1\n",
      "41973.68170       1\n",
      "52274.17255       1\n",
      "17982.06763       1\n",
      "22046.97642       1\n",
      "Name: tradeNewMeanPrice, Length: 557, dtype: int64\n"
     ]
    },
    {
     "data": {
      "image/png": "[encoded data removed]",
      "text/plain": [
       "<Figure size 432x288 with 1 Axes>"
      ]
     },
     "metadata": {
      "needs_background": "light"
     },
     "output_type": "display_data"
    },
    {
     "name": "stdout",
     "output_type": "stream",
     "text": [
      "tradeNewNum的特征分布如下：\n",
      "0      8179\n",
      "1      3747\n",
      "2      3293\n",
      "6      1249\n",
      "4      1208\n",
      "       ... \n",
      "69        4\n",
      "139       2\n",
      "241       2\n",
      "101       1\n",
      "274       1\n",
      "Name: tradeNewNum, Length: 157, dtype: int64\n"
     ]
    },
    {
     "data": {
      "image/png": "[encoded data removed]",
      "text/plain": [
       "<Figure size 432x288 with 1 Axes>"
      ]
     },
     "metadata": {
      "needs_background": "light"
     },
     "output_type": "display_data"
    },
    {
     "name": "stdout",
     "output_type": "stream",
     "text": [
      "remainNewNum的特征分布如下：\n",
      "2       1305\n",
      "0       1275\n",
      "17      1051\n",
      "7        851\n",
      "86       783\n",
      "        ... \n",
      "74         1\n",
      "4351       1\n",
      "117        1\n",
      "4713       1\n",
      "715        1\n",
      "Name: remainNewNum, Length: 392, dtype: int64\n"
     ]
    },
    {
     "data": {
      "image/png": "[encoded data removed]",
      "text/plain": [
       "<Figure size 432x288 with 1 Axes>"
      ]
     },
     "metadata": {
      "needs_background": "light"
     },
     "output_type": "display_data"
    },
    {
     "name": "stdout",
     "output_type": "stream",
     "text": [
      "supplyNewNum的特征分布如下：\n",
      "0      33077\n",
      "328      366\n",
      "480      333\n",
      "422      278\n",
      "350      224\n",
      "       ...  \n",
      "263        3\n",
      "590        3\n",
      "71         3\n",
      "72         2\n",
      "446        2\n",
      "Name: supplyNewNum, Length: 104, dtype: int64\n"
     ]
    },
    {
     "data": {
      "image/png": "[encoded data removed]",
      "text/plain": [
       "<Figure size 432x288 with 1 Axes>"
      ]
     },
     "metadata": {
      "needs_background": "light"
     },
     "output_type": "display_data"
    },
    {
     "name": "stdout",
     "output_type": "stream",
     "text": [
      "supplyLandNum的特征分布如下：\n",
      "0    36356\n",
      "1     3142\n",
      "2     1537\n",
      "3      405\n",
      "Name: supplyLandNum, dtype: int64\n"
     ]
    },
    {
     "data": {
      "image/png": "[encoded data removed]",
      "text/plain": [
       "<Figure size 432x288 with 1 Axes>"
      ]
     },
     "metadata": {
      "needs_background": "light"
     },
     "output_type": "display_data"
    },
    {
     "name": "stdout",
     "output_type": "stream",
     "text": [
      "supplyLandArea的特征分布如下：\n",
      "0.00         36356\n",
      "90735.72       384\n",
      "69919.92       255\n",
      "105389.75      201\n",
      "50803.74       199\n",
      "255930.40      194\n",
      "119850.56      183\n",
      "187973.55      180\n",
      "59981.40       179\n",
      "138730.80      175\n",
      "243769.88      160\n",
      "135592.82      152\n",
      "92751.20       149\n",
      "128074.77      143\n",
      "113075.80      137\n",
      "88880.66       131\n",
      "170720.70      130\n",
      "411876.30      130\n",
      "120615.78      121\n",
      "112848.48      110\n",
      "116648.64      106\n",
      "59519.90       102\n",
      "203724.72       94\n",
      "30053.50        93\n",
      "66038.49        86\n",
      "108037.80       76\n",
      "85269.20        75\n",
      "96818.60        71\n",
      "5113.60         65\n",
      "26852.70        62\n",
      "41130.80        60\n",
      "283802.37       60\n",
      "27060.24        58\n",
      "40333.40        57\n",
      "80218.58        57\n",
      "72586.20        55\n",
      "16065.27        54\n",
      "155096.80       50\n",
      "88191.75        47\n",
      "186898.91       44\n",
      "182724.80       42\n",
      "32855.00        41\n",
      "65655.53        41\n",
      "555508.01       37\n",
      "23756.75        37\n",
      "135663.00       36\n",
      "32488.38        31\n",
      "101530.52       30\n",
      "119340.36       29\n",
      "33001.59        27\n",
      "247712.44       25\n",
      "98038.62        15\n",
      "73496.64         7\n",
      "68800.65         1\n",
      "Name: supplyLandArea, dtype: int64\n"
     ]
    },
    {
     "data": {
      "image/png": "[encoded data removed]",
      "text/plain": [
       "<Figure size 432x288 with 1 Axes>"
      ]
     },
     "metadata": {
      "needs_background": "light"
     },
     "output_type": "display_data"
    },
    {
     "name": "stdout",
     "output_type": "stream",
     "text": [
      "tradeLandNum的特征分布如下：\n",
      "0    37691\n",
      "1     2348\n",
      "2      749\n",
      "3      492\n",
      "5      160\n",
      "Name: tradeLandNum, dtype: int64\n"
     ]
    },
    {
     "data": {
      "image/png": "[encoded data removed]",
      "text/plain": [
       "<Figure size 432x288 with 1 Axes>"
      ]
     },
     "metadata": {
      "needs_background": "light"
     },
     "output_type": "display_data"
    },
    {
     "name": "stdout",
     "output_type": "stream",
     "text": [
      "tradeLandArea的特征分布如下：\n",
      "0.00         37691\n",
      "112848.48      384\n",
      "50803.74       199\n",
      "162127.95      194\n",
      "237828.35      180\n",
      "25923.12       179\n",
      "382500.68      160\n",
      "255443.38      143\n",
      "128074.77      141\n",
      "203724.72      138\n",
      "88880.66       131\n",
      "197633.56      130\n",
      "180222.60      130\n",
      "190535.70      114\n",
      "229724.44      106\n",
      "59519.90       102\n",
      "108037.80       76\n",
      "85269.20        75\n",
      "30053.50        73\n",
      "328472.30       71\n",
      "71152.09        65\n",
      "40333.40        62\n",
      "213401.12       60\n",
      "92427.50        58\n",
      "70401.25        57\n",
      "41130.80        55\n",
      "32488.38        50\n",
      "26852.70        50\n",
      "155096.80       48\n",
      "40223.34        46\n",
      "186898.91       45\n",
      "62519.25        42\n",
      "132870.00       42\n",
      "65655.53        39\n",
      "27060.24        39\n",
      "33001.59        38\n",
      "10467.00        37\n",
      "152468.56       33\n",
      "23756.75        29\n",
      "555508.01       27\n",
      "16065.27        27\n",
      "32855.00        26\n",
      "215627.62       25\n",
      "12907.62        17\n",
      "73496.64         5\n",
      "68800.65         1\n",
      "Name: tradeLandArea, dtype: int64\n"
     ]
    },
    {
     "data": {
      "image/png": "[encoded data removed]",
      "text/plain": [
       "<Figure size 432x288 with 1 Axes>"
      ]
     },
     "metadata": {
      "needs_background": "light"
     },
     "output_type": "display_data"
    },
    {
     "name": "stdout",
     "output_type": "stream",
     "text": [
      "landTotalPrice的特征分布如下：\n",
      "0             37691\n",
      "400600000       384\n",
      "182500000       199\n",
      "2238680000      194\n",
      "1078790000      180\n",
      "88840000        179\n",
      "1065270000      160\n",
      "4640750000      143\n",
      "1024600000      141\n",
      "4278220000      138\n",
      "1015190000      131\n",
      "551480000       130\n",
      "1136400000      130\n",
      "2660380000      114\n",
      "1086940000      106\n",
      "253960000       102\n",
      "332760000        76\n",
      "282220000        75\n",
      "268230000        73\n",
      "1004970000       71\n",
      "301080000        65\n",
      "125030000        62\n",
      "1090900000       60\n",
      "2790750000       58\n",
      "215520000        57\n",
      "237200000        55\n",
      "1010890000       50\n",
      "85810000         50\n",
      "743840000        48\n",
      "144400000        46\n",
      "6197570000       45\n",
      "284460000        42\n",
      "573070000        42\n",
      "95230000         39\n",
      "2462940000       39\n",
      "110890000        38\n",
      "78000000         37\n",
      "1248900000       33\n",
      "171070000        29\n",
      "118470000        27\n",
      "4262630000       27\n",
      "142300000        26\n",
      "931620000        25\n",
      "93310000         17\n",
      "441150000         5\n",
      "135350000         1\n",
      "Name: landTotalPrice, dtype: int64\n"
     ]
    },
    {
     "data": {
      "image/png": "[encoded data removed]",
      "text/plain": [
       "<Figure size 432x288 with 1 Axes>"
      ]
     },
     "metadata": {
      "needs_background": "light"
     },
     "output_type": "display_data"
    },
    {
     "name": "stdout",
     "output_type": "stream",
     "text": [
      "landMeanPrice的特征分布如下：\n",
      "0.000000        37691\n",
      "3549.892741       384\n",
      "3592.255216       199\n",
      "13808.106500      194\n",
      "3427.056620       179\n",
      "4536.002541       172\n",
      "2785.014657       160\n",
      "18167.431080      143\n",
      "21000.004320      138\n",
      "8000.014367       137\n",
      "11421.944890      131\n",
      "5750.035571       130\n",
      "3059.993586       125\n",
      "13962.632720      114\n",
      "4731.494829       106\n",
      "4266.808244       102\n",
      "3080.033100        76\n",
      "3309.753111        75\n",
      "8925.083601        73\n",
      "3059.527394        71\n",
      "4231.499033        65\n",
      "3099.912232        62\n",
      "5111.969422        60\n",
      "30193.935790       58\n",
      "3061.309281        57\n",
      "5766.967820        55\n",
      "31115.432660       50\n",
      "3195.581822        50\n",
      "4795.972580        48\n",
      "3589.955484        46\n",
      "33160.011470       45\n",
      "4549.958613        42\n",
      "4313.012719        40\n",
      "3519.185344        39\n",
      "3360.141133        38\n",
      "7451.991975        37\n",
      "37513.062490       35\n",
      "8191.196926        33\n",
      "7200.900797        29\n",
      "7673.390704        27\n",
      "4331.152032        26\n",
      "4320.504024        25\n",
      "7374.292496        25\n",
      "7229.063143        17\n",
      "4536.000000         8\n",
      "3059.990000         5\n",
      "6002.315208         5\n",
      "8000.010000         4\n",
      "37513.060000        4\n",
      "7374.290000         2\n",
      "4313.010000         2\n",
      "1967.277925         1\n",
      "Name: landMeanPrice, dtype: int64\n"
     ]
    },
    {
     "data": {
      "image/png": "[encoded data removed]",
      "text/plain": [
       "<Figure size 432x288 with 1 Axes>"
      ]
     },
     "metadata": {
      "needs_background": "light"
     },
     "output_type": "display_data"
    },
    {
     "name": "stdout",
     "output_type": "stream",
     "text": [
      "totalWorkers的特征分布如下：\n",
      "4370      2043\n",
      "28546     1958\n",
      "50134     1837\n",
      "46725     1816\n",
      "388879    1516\n",
      "          ... \n",
      "1190        40\n",
      "1350        33\n",
      "13736       15\n",
      "600          3\n",
      "132370       1\n",
      "Name: totalWorkers, Length: 63, dtype: int64\n"
     ]
    },
    {
     "data": {
      "image/png": "[encoded data removed]",
      "text/plain": [
       "<Figure size 432x288 with 1 Axes>"
      ]
     },
     "metadata": {
      "needs_background": "light"
     },
     "output_type": "display_data"
    },
    {
     "name": "stdout",
     "output_type": "stream",
     "text": [
      "newWorkers的特征分布如下：\n",
      "0       34416\n",
      "724       158\n",
      "765       152\n",
      "657       143\n",
      "5185      141\n",
      "        ...  \n",
      "62          3\n",
      "161         3\n",
      "1584        3\n",
      "153         2\n",
      "142         1\n",
      "Name: newWorkers, Length: 179, dtype: int64\n"
     ]
    },
    {
     "data": {
      "image/png": "[encoded data removed]",
      "text/plain": [
       "<Figure size 432x288 with 1 Axes>"
      ]
     },
     "metadata": {
      "needs_background": "light"
     },
     "output_type": "display_data"
    },
    {
     "name": "stdout",
     "output_type": "stream",
     "text": [
      "residentPopulation的特征分布如下：\n",
      "306857    2043\n",
      "371900    1958\n",
      "226469    1837\n",
      "928198    1816\n",
      "491767    1516\n",
      "          ... \n",
      "250864      40\n",
      "215146      33\n",
      "145454      15\n",
      "234932       3\n",
      "199528       1\n",
      "Name: residentPopulation, Length: 63, dtype: int64\n"
     ]
    },
    {
     "data": {
      "image/png": "[encoded data removed]",
      "text/plain": [
       "<Figure size 432x288 with 1 Axes>"
      ]
     },
     "metadata": {
      "needs_background": "light"
     },
     "output_type": "display_data"
    },
    {
     "name": "stdout",
     "output_type": "stream",
     "text": [
      "pv的特征分布如下：\n",
      "52511.0    384\n",
      "17471.0    374\n",
      "25211.0    339\n",
      "61150.0    314\n",
      "42301.0    313\n",
      "          ... \n",
      "7480.0       1\n",
      "10863.0      1\n",
      "19092.0      1\n",
      "8701.0       1\n",
      "352.0        1\n",
      "Name: pv, Length: 709, dtype: int64\n"
     ]
    },
    {
     "data": {
      "image/png": "[encoded data removed]",
      "text/plain": [
       "<Figure size 432x288 with 1 Axes>"
      ]
     },
     "metadata": {
      "needs_background": "light"
     },
     "output_type": "display_data"
    },
    {
     "name": "stdout",
     "output_type": "stream",
     "text": [
      "uv的特征分布如下：\n",
      "4868.0    384\n",
      "2554.0    374\n",
      "2889.0    342\n",
      "2187.0    339\n",
      "5822.0    314\n",
      "         ... \n",
      "203.0       1\n",
      "933.0       1\n",
      "79.0        1\n",
      "651.0       1\n",
      "754.0       1\n",
      "Name: uv, Length: 649, dtype: int64\n"
     ]
    },
    {
     "data": {
      "image/png": "[encoded data removed]",
      "text/plain": [
       "<Figure size 432x288 with 1 Axes>"
      ]
     },
     "metadata": {
      "needs_background": "light"
     },
     "output_type": "display_data"
    },
    {
     "name": "stdout",
     "output_type": "stream",
     "text": [
      "lookNum的特征分布如下：\n",
      "0     37194\n",
      "1      1159\n",
      "2       903\n",
      "3       565\n",
      "4       404\n",
      "5       295\n",
      "6       211\n",
      "7       154\n",
      "8       134\n",
      "9        91\n",
      "10       79\n",
      "11       52\n",
      "12       48\n",
      "13       34\n",
      "15       23\n",
      "14       23\n",
      "17       18\n",
      "16       13\n",
      "19       11\n",
      "18        9\n",
      "21        4\n",
      "23        3\n",
      "20        2\n",
      "37        2\n",
      "25        2\n",
      "29        1\n",
      "22        1\n",
      "24        1\n",
      "26        1\n",
      "27        1\n",
      "28        1\n",
      "30        1\n",
      "Name: lookNum, dtype: int64\n"
     ]
    },
    {
     "data": {
      "image/png": "[encoded data removed]",
      "text/plain": [
       "<Figure size 432x288 with 1 Axes>"
      ]
     },
     "metadata": {
      "needs_background": "light"
     },
     "output_type": "display_data"
    },
    {
     "name": "stdout",
     "output_type": "stream",
     "text": [
      "tradeTime的特征分布如下：\n",
      "2018/3/3     543\n",
      "2018/3/4     487\n",
      "2018/3/11    410\n",
      "2018/3/10    400\n",
      "2018/3/24    341\n",
      "            ... \n",
      "2018/1/2       5\n",
      "2018/2/13      4\n",
      "2018/2/20      2\n",
      "2018/2/17      1\n",
      "2018/2/19      1\n",
      "Name: tradeTime, Length: 361, dtype: int64\n"
     ]
    },
    {
     "data": {
      "image/png": "[encoded data removed]",
      "text/plain": [
       "<Figure size 432x288 with 1 Axes>"
      ]
     },
     "metadata": {
      "needs_background": "light"
     },
     "output_type": "display_data"
    },
    {
     "name": "stdout",
     "output_type": "stream",
     "text": [
      "tradeMoney的特征分布如下：\n",
      "4000.0     1450\n",
      "3500.0     1345\n",
      "4500.0     1222\n",
      "3000.0     1209\n",
      "5000.0     1165\n",
      "           ... \n",
      "23600.0       1\n",
      "3666.0        1\n",
      "13999.0       1\n",
      "23900.0       1\n",
      "1225.0        1\n",
      "Name: tradeMoney, Length: 836, dtype: int64\n"
     ]
    },
    {
     "data": {
      "image/png": "[encoded data removed]",
      "text/plain": [
       "<Figure size 432x288 with 1 Axes>"
      ]
     },
     "metadata": {
      "needs_background": "light"
     },
     "output_type": "display_data"
    }
   ],
   "source": [
    "#特征分布\n",
    "for feature in data_train.columns:\n",
    "    print(feature + \"的特征分布如下：\")\n",
    "    print(data_train[feature].value_counts())\n",
    "    if feature != 'communityName': # communityName值太多，暂且不看图表\n",
    "        plt.hist(data_train[feature], bins=3)\n",
    "        plt.show()"
   ]
  },
  {
   "cell_type": "code",
   "execution_count": 40,
   "metadata": {},
   "outputs": [
    {
     "name": "stdout",
     "output_type": "stream",
     "text": [
      "Empty DataFrame\n",
      "Columns: [ID, counts]\n",
      "Index: []\n",
      "    area  counts\n",
      "0   90.0     303\n",
      "1   89.0     266\n",
      "2   10.0     203\n",
      "3   60.0     202\n",
      "4   50.0     193\n",
      "5   40.0     188\n",
      "6   88.0     182\n",
      "7   12.0     172\n",
      "8   80.0     169\n",
      "9   70.0     167\n",
      "10  55.0     156\n",
      "11  13.0     156\n",
      "12  85.0     144\n",
      "13  56.0     138\n",
      "14  15.0     137\n",
      "15  14.0     135\n",
      "16  52.0     113\n",
      "17  30.0     112\n",
      "18  57.0     110\n",
      "19  78.0     110\n",
      "20  35.0     108\n",
      "21  42.0     108\n",
      "22  54.0     108\n",
      "23  58.0     108\n",
      "24  37.0     106\n",
      "25  65.0     105\n",
      "26  45.0     104\n",
      "27  53.0     103\n",
      "28  51.0     101\n",
      "  rentType  counts\n",
      "0     未知方式   30759\n",
      "1       整租    5472\n",
      "2       合租    5204\n",
      "   houseType  counts\n",
      "0     1室1厅1卫    9805\n",
      "1     2室1厅1卫    8512\n",
      "2     2室2厅1卫    6783\n",
      "3     3室1厅1卫    3992\n",
      "4     3室2厅2卫    2737\n",
      "5     4室1厅1卫    1957\n",
      "6     3室2厅1卫    1920\n",
      "7     1室0厅1卫    1286\n",
      "8     1室2厅1卫     933\n",
      "9     2室2厅2卫     881\n",
      "10    4室2厅2卫     435\n",
      "11    2室0厅1卫     419\n",
      "12    4室2厅3卫     273\n",
      "13    5室1厅1卫     197\n",
      "14    2室1厅2卫     155\n",
      "15    3室2厅3卫     149\n",
      "16    3室1厅2卫     135\n",
      "  houseFloor  counts\n",
      "0          中   15458\n",
      "1          高   14066\n",
      "2          低   11916\n",
      "    totalFloor  counts\n",
      "0            6   15797\n",
      "1           18    3553\n",
      "2           11    2884\n",
      "3            5    2730\n",
      "4           14    2166\n",
      "5           17    1375\n",
      "6            7    1362\n",
      "7           16    1147\n",
      "8           13     882\n",
      "9           15     809\n",
      "10          12     738\n",
      "11          24     732\n",
      "12           8     624\n",
      "13           4     486\n",
      "14          19     467\n",
      "15          21     466\n",
      "16          20     457\n",
      "17           3     446\n",
      "18          10     401\n",
      "19          27     399\n",
      "20           9     393\n",
      "21          25     390\n",
      "22          22     309\n",
      "23          26     300\n",
      "24          29     289\n",
      "25          28     258\n",
      "26          32     234\n",
      "27          31     211\n",
      "28           2     193\n",
      "29          23     161\n",
      "30          30     144\n",
      "31          33     117\n",
      "  houseToward  counts\n",
      "0           南   34377\n",
      "1          南北    2254\n",
      "2           北    2043\n",
      "3        暂无数据     963\n",
      "4          东南     655\n",
      "5           东     552\n",
      "6           西     264\n",
      "7          西南     250\n",
      "  houseDecoration  counts\n",
      "0              其他   29040\n",
      "1              精装   10918\n",
      "2              简装    1171\n",
      "3              毛坯     311\n",
      "   communityName  counts\n",
      "0        XQ01834     358\n",
      "1        XQ01274     192\n",
      "2        XQ02273     188\n",
      "3        XQ03110     185\n",
      "4        XQ02337     173\n",
      "5        XQ01389     166\n",
      "6        XQ01658     163\n",
      "7        XQ02789     152\n",
      "8        XQ01561     151\n",
      "9        XQ00530     151\n",
      "10       XQ01339     132\n",
      "11       XQ00826     122\n",
      "12       XQ01873     122\n",
      "13       XQ02296     121\n",
      "14       XQ01232     119\n",
      "15       XQ01401     118\n",
      "16       XQ02441     117\n",
      "17       XQ00196     115\n",
      "18       XQ02365     109\n",
      "19       XQ01207     109\n",
      "20       XQ01410     108\n",
      "21       XQ00852     105\n",
      "22       XQ02072     103\n",
      "23       XQ01672     103\n",
      "  city  counts\n",
      "0   SH   41440\n",
      "     region  counts\n",
      "0   RG00002   11437\n",
      "1   RG00005    5739\n",
      "2   RG00003    4186\n",
      "3   RG00010    3640\n",
      "4   RG00012    3368\n",
      "5   RG00004    3333\n",
      "6   RG00006    1961\n",
      "7   RG00007    1610\n",
      "8   RG00008    1250\n",
      "9   RG00013    1215\n",
      "10  RG00001    1157\n",
      "11  RG00014    1069\n",
      "12  RG00011     793\n",
      "13  RG00009     681\n",
      "      plate  counts\n",
      "0   BK00031    1958\n",
      "1   BK00033    1837\n",
      "2   BK00045    1816\n",
      "3   BK00055    1566\n",
      "4   BK00056    1516\n",
      "5   BK00052    1375\n",
      "6   BK00017    1305\n",
      "7   BK00041    1266\n",
      "8   BK00054    1256\n",
      "9   BK00051    1253\n",
      "10  BK00046    1227\n",
      "11  BK00035    1156\n",
      "12  BK00042    1137\n",
      "13  BK00009    1016\n",
      "14  BK00050     979\n",
      "15  BK00043     930\n",
      "16  BK00026     906\n",
      "17  BK00047     880\n",
      "18  BK00034     849\n",
      "19  BK00013     834\n",
      "20  BK00053     819\n",
      "21  BK00028     745\n",
      "22  BK00040     679\n",
      "23  BK00060     671\n",
      "24  BK00010     651\n",
      "25  BK00029     646\n",
      "26  BK00062     618\n",
      "27  BK00022     614\n",
      "28  BK00018     613\n",
      "29  BK00064     590\n",
      "30  BK00005     549\n",
      "31  BK00003     523\n",
      "32  BK00014     500\n",
      "33  BK00019     498\n",
      "34  BK00061     477\n",
      "35  BK00011     455\n",
      "36  BK00037     444\n",
      "37  BK00012     412\n",
      "38  BK00038     398\n",
      "39  BK00024     397\n",
      "40  BK00020     384\n",
      "41  BK00002     357\n",
      "42  BK00065     348\n",
      "43  BK00027     344\n",
      "44  BK00039     343\n",
      "45  BK00063     281\n",
      "46  BK00057     278\n",
      "47  BK00015     253\n",
      "48  BK00006     231\n",
      "49  BK00021     226\n",
      "50  BK00007     225\n",
      "51  BK00066     219\n",
      "52  BK00030     219\n",
      "53  BK00049     211\n",
      "54  BK00008     210\n",
      "55  BK00004     189\n",
      "56  BK00048     165\n",
      "57  BK00025     157\n",
      "58  BK00023     127\n",
      "59  BK00059     122\n",
      "   buildYear  counts\n",
      "0       1994    2851\n",
      "1       暂无信息    2808\n",
      "2       2006    2007\n",
      "3       2007    1851\n",
      "4       2008    1849\n",
      "5       2005    1814\n",
      "6       2010    1774\n",
      "7       1995    1685\n",
      "8       1993    1543\n",
      "9       2011    1498\n",
      "10      2004    1431\n",
      "11      2009    1271\n",
      "12      2014    1238\n",
      "13      2003    1156\n",
      "14      1997    1125\n",
      "15      2002    1120\n",
      "16      2012    1049\n",
      "17      1996     991\n",
      "18      2000     925\n",
      "19      2001     898\n",
      "20      2015     840\n",
      "21      1999     822\n",
      "22      1998     733\n",
      "23      2013     714\n",
      "24      1987     632\n",
      "25      1983     612\n",
      "26      1991     545\n",
      "27      1984     493\n",
      "28      1980     452\n",
      "29      1990     431\n",
      "30      1988     423\n",
      "31      1989     419\n",
      "32      1985     359\n",
      "33      1982     344\n",
      "34      1986     320\n",
      "35      1992     308\n",
      "36      1976     251\n",
      "37      1957     227\n",
      "38      1981     221\n",
      "39      1956     153\n",
      "40      1977     153\n",
      "41      2016     140\n",
      "42      1978     133\n",
      "43      1958     122\n",
      "44      1979     116\n",
      "45      1954     101\n",
      "    saleSecHouseNum  counts\n",
      "0                 0   29937\n",
      "1                 1    2215\n",
      "2                 2    2020\n",
      "3                 3    1654\n",
      "4                 4    1290\n",
      "5                 5     822\n",
      "6                 6     716\n",
      "7                 7     614\n",
      "8                 8     460\n",
      "9                 9     299\n",
      "10               11     291\n",
      "11               10     245\n",
      "12               14     179\n",
      "13               13     154\n",
      "14               12     147\n",
      "    subwayStationNum  counts\n",
      "0                  6    6778\n",
      "1                  2    6187\n",
      "2                  3    5972\n",
      "3                  5    4937\n",
      "4                  1    3440\n",
      "5                  7    3309\n",
      "6                 11    2400\n",
      "7                  4    1932\n",
      "8                 14    1794\n",
      "9                 22    1375\n",
      "10                 9    1266\n",
      "11                13    1137\n",
      "12                 0     913\n",
      "    busStationNum  counts\n",
      "0             151    2043\n",
      "1             461    1958\n",
      "2              96    1837\n",
      "3             824    1816\n",
      "4             258    1516\n",
      "5             276    1375\n",
      "6              92    1305\n",
      "7             144    1266\n",
      "8             306    1256\n",
      "9             364    1253\n",
      "10            167    1227\n",
      "11             98    1183\n",
      "12            178    1156\n",
      "13            441    1137\n",
      "14             56    1016\n",
      "15             60     979\n",
      "16            101     906\n",
      "17            172     880\n",
      "18             78     849\n",
      "19             72     834\n",
      "20            190     819\n",
      "21             67     745\n",
      "22             95     719\n",
      "23            138     679\n",
      "24             88     671\n",
      "25             62     651\n",
      "26             27     646\n",
      "27            196     618\n",
      "28            156     614\n",
      "29             83     613\n",
      "30            114     610\n",
      "31             36     590\n",
      "32             29     579\n",
      "33             82     577\n",
      "34            105     549\n",
      "35             45     523\n",
      "36             42     498\n",
      "37             34     455\n",
      "38             68     444\n",
      "39             52     435\n",
      "40            169     398\n",
      "41             24     397\n",
      "42             79     357\n",
      "43             74     344\n",
      "44             41     343\n",
      "45             25     281\n",
      "46            331     278\n",
      "47             48     219\n",
      "48            184     211\n",
      "49             30     189\n",
      "50             70     157\n",
      "51             47     127\n",
      "52            128     122\n",
      "   interSchoolNum  counts\n",
      "0               0   16177\n",
      "1               1    8252\n",
      "2               2    6363\n",
      "3               3    5319\n",
      "4               4    3677\n",
      "5               6    1217\n",
      "6               8     435\n",
      "    schoolNum  counts\n",
      "0          53    2853\n",
      "1          21    2571\n",
      "2          48    2498\n",
      "3          10    2310\n",
      "4          71    1958\n",
      "5          61    1927\n",
      "6          99    1816\n",
      "7          30    1600\n",
      "8          98    1516\n",
      "9          13    1508\n",
      "10         24    1468\n",
      "11        142    1375\n",
      "12         22    1305\n",
      "13         60    1253\n",
      "14         47    1141\n",
      "15         62    1137\n",
      "16         32    1068\n",
      "17         43     979\n",
      "18         28     947\n",
      "19         50     906\n",
      "20         64     834\n",
      "21         69     745\n",
      "22         41     680\n",
      "23         37     651\n",
      "24         20     618\n",
      "25         39     613\n",
      "26         44     610\n",
      "27         38     523\n",
      "28         18     513\n",
      "29         59     412\n",
      "30         23     398\n",
      "31         45     397\n",
      "32         72     344\n",
      "33          9     286\n",
      "34         65     278\n",
      "35         29     231\n",
      "36         74     219\n",
      "37         26     211\n",
      "38         14     189\n",
      "39         11     165\n",
      "40         57     127\n",
      "41         16     122\n",
      "    privateSchoolNum  counts\n",
      "0                  2    8592\n",
      "1                  1    5534\n",
      "2                  9    4961\n",
      "3                  5    4118\n",
      "4                  8    3857\n",
      "5                 13    1860\n",
      "6                 15    1837\n",
      "7                  7    1429\n",
      "8                  3    1428\n",
      "9                 12    1375\n",
      "10                 4    1313\n",
      "11                 6    1242\n",
      "12                11     899\n",
      "13                 0     857\n",
      "14                16     849\n",
      "15                24     679\n",
      "16                10     610\n",
      "    hospitalNum  counts\n",
      "0             1    7720\n",
      "1             6    7162\n",
      "2             2    6343\n",
      "3             5    5404\n",
      "4             3    3135\n",
      "5             0    2661\n",
      "6             8    2636\n",
      "7             4    2051\n",
      "8            11    1816\n",
      "9            14    1375\n"
     ]
    },
    {
     "name": "stdout",
     "output_type": "stream",
     "text": [
      "10            9    1137\n",
      "    drugStoreNum  counts\n",
      "0             40    2623\n",
      "1             39    2218\n",
      "2             31    2080\n",
      "3             69    2043\n",
      "4            106    1958\n",
      "5             34    1865\n",
      "6             36    1837\n",
      "7            174    1816\n",
      "8             88    1516\n",
      "9             35    1503\n",
      "10           118    1375\n",
      "11            37    1274\n",
      "12            65    1266\n",
      "13            94    1256\n",
      "14            83    1253\n",
      "15            54    1227\n",
      "16            47    1156\n",
      "17           145    1137\n",
      "18            27    1110\n",
      "19            22    1006\n",
      "20            24     979\n",
      "21            15     964\n",
      "22            11     927\n",
      "23            41     852\n",
      "24            67     679\n",
      "25            49     618\n",
      "26            48     610\n",
      "27            12     590\n",
      "28            28     523\n",
      "29            17     500\n",
      "30            19     435\n",
      "31            55     398\n",
      "32            20     358\n",
      "33            33     357\n",
      "34            85     278\n",
      "35            13     253\n",
      "36             8     189\n",
      "37            29     157\n",
      "38            23     122\n",
      "    gymNum  counts\n",
      "0       16    3107\n",
      "1       26    2916\n",
      "2       25    2488\n",
      "3       34    2488\n",
      "4       41    2043\n",
      "5       27    2011\n",
      "6       36    1958\n",
      "7       88    1816\n",
      "8       35    1528\n",
      "9       52    1516\n",
      "10      64    1375\n",
      "11      37    1256\n",
      "12      40    1254\n",
      "13      30    1253\n",
      "14      23    1141\n",
      "15      84    1137\n",
      "16      38    1111\n",
      "17      28     956\n",
      "18      43     910\n",
      "19      56     906\n",
      "20      20     846\n",
      "21      32     834\n",
      "22      13     803\n",
      "23      82     671\n",
      "24       6     661\n",
      "25      15     590\n",
      "26      10     500\n",
      "27       5     471\n",
      "28      78     444\n",
      "29      22     398\n",
      "30      39     397\n",
      "31       8     393\n",
      "32      48     278\n",
      "33       1     253\n",
      "34      21     219\n",
      "35      12     219\n",
      "36      14     165\n",
      "37      18     127\n",
      "    bankNum  counts\n",
      "0        21    3146\n",
      "1        43    3078\n",
      "2        86    2393\n",
      "3        34    2043\n",
      "4        52    1837\n",
      "5       119    1816\n",
      "6        50    1727\n",
      "7        31    1686\n",
      "8        75    1516\n",
      "9        95    1375\n",
      "10       16    1301\n",
      "11       35    1289\n",
      "12       47    1253\n",
      "13       22    1156\n",
      "14       91    1137\n",
      "15       29    1136\n",
      "16       23    1016\n",
      "17       37     979\n",
      "18       18     930\n",
      "19       62     906\n",
      "20       13     880\n",
      "21       53     834\n",
      "22       28     757\n",
      "23       46     745\n",
      "24       24     741\n",
      "25      207     671\n",
      "26       41     651\n",
      "27       27     646\n",
      "28        7     534\n",
      "29       38     455\n",
      "30       42     412\n",
      "31       69     397\n",
      "32       20     357\n",
      "33       15     348\n",
      "34       92     278\n",
      "35       33     231\n",
      "36       11     189\n",
      "37       12     165\n",
      "38       98     157\n",
      "39        9     122\n",
      "    shopNum  counts\n",
      "0       154    2486\n",
      "1       236    2043\n",
      "2       598    1958\n",
      "3       162    1837\n",
      "4       824    1816\n",
      "5       341    1516\n",
      "6       483    1375\n",
      "7       171    1305\n",
      "8       301    1266\n",
      "9       419    1256\n",
      "10      358    1253\n",
      "11      167    1227\n",
      "12      214    1156\n",
      "13      671    1137\n",
      "14      189    1068\n",
      "15      215    1016\n",
      "16       85     979\n",
      "17      150     930\n",
      "18      231     906\n",
      "19      175     880\n",
      "20      224     846\n",
      "21      223     834\n",
      "22      211     745\n",
      "23      199     671\n",
      "24       65     646\n",
      "25      206     614\n",
      "26      243     613\n",
      "27      318     610\n",
      "28       76     590\n",
      "29      200     549\n",
      "30       96     523\n",
      "31      118     500\n",
      "32       97     498\n",
      "33      142     455\n",
      "34      160     444\n",
      "35       90     435\n",
      "36      354     412\n",
      "37      140     397\n",
      "38      151     357\n",
      "39      109     348\n",
      "40      306     344\n",
      "41       80     343\n",
      "42      100     329\n",
      "43       10     281\n",
      "44      404     278\n",
      "45       84     253\n",
      "46      143     219\n",
      "47      163     211\n",
      "48       42     189\n",
      "49       99     165\n",
      "50      245     157\n",
      "51       77     122\n",
      "    parkNum  counts\n",
      "0         8    6068\n",
      "1         3    5166\n",
      "2         6    4683\n",
      "3         7    3906\n",
      "4         5    3672\n",
      "5         4    2480\n",
      "6         1    2242\n",
      "7        11    2134\n",
      "8        24    1816\n",
      "9         0    1508\n",
      "10       23    1375\n",
      "11       10    1266\n",
      "12       14    1256\n",
      "13        2    1172\n",
      "14       30    1137\n",
      "15       13     671\n",
      "16       12     610\n",
      "17       26     278\n",
      "    mallNum  counts\n",
      "0         5    5806\n",
      "1         7    5558\n",
      "2         2    5150\n",
      "3         6    4404\n",
      "4         4    3784\n",
      "5         1    3322\n",
      "6         3    2472\n",
      "7        12    1958\n",
      "8        19    1816\n",
      "9         8    1652\n",
      "10       10    1257\n",
      "11        9    1247\n",
      "12       16    1137\n",
      "13        0     705\n",
      "14       15     671\n",
      "15       11     344\n",
      "16       14     157\n",
      "    superMarketNum  counts\n",
      "0               56    3173\n",
      "1               78    2043\n",
      "2              119    1958\n",
      "3               47    1837\n",
      "4              299    1816\n",
      "5              130    1516\n",
      "6              154    1375\n",
      "7               63    1369\n",
      "8               74    1305\n",
      "9              109    1266\n",
      "10             126    1256\n",
      "11             131    1253\n",
      "12             100    1227\n",
      "13              60    1156\n",
      "14             159    1137\n",
      "15              32    1021\n",
      "16              37    1016\n",
      "17              30     979\n",
      "18              46     930\n",
      "19              61     880\n",
      "20              21     867\n",
      "21              58     849\n",
      "22              22     809\n",
      "23              53     745\n",
      "24              31     714\n",
      "25              75     679\n",
      "26              55     671\n",
      "27              36     651\n",
      "28              15     646\n",
      "29              98     618\n",
      "30             103     610\n",
      "31              38     503\n",
      "32              41     500\n",
      "33              42     455\n",
      "34              51     445\n",
      "35              43     444\n",
      "36              35     435\n",
      "37              88     398\n",
      "38              48     357\n",
      "39              11     281\n",
      "40             145     278\n",
      "41              16     253\n",
      "42              23     231\n",
      "43               5     189\n",
      "44              29     157\n",
      "     totalTradeMoney  counts\n",
      "0                  0     423\n",
      "1         1095010000     384\n",
      "2         1492450000     374\n",
      "3          878170000     339\n",
      "4          274540000     314\n",
      "..               ...     ...\n",
      "113       1646330000     102\n",
      "114        552940000     102\n",
      "115        564000000     102\n",
      "116        193270000     101\n",
      "117        635860000     100\n",
      "\n",
      "[118 rows x 2 columns]\n",
      "     totalTradeArea  counts\n",
      "0              0.00     423\n",
      "1          39571.94     384\n",
      "2          28948.29     374\n",
      "3          21523.39     339\n",
      "4           7307.14     314\n",
      "..              ...     ...\n",
      "113        46079.83     102\n",
      "114        18079.87     102\n",
      "115        28627.12     102\n",
      "116         5333.47     101\n",
      "117        12567.11     100\n",
      "\n",
      "[118 rows x 2 columns]\n",
      "     tradeMeanPrice  counts\n",
      "0           0.00000     423\n",
      "1       27671.37522     384\n",
      "2       51555.72229     374\n",
      "3       40800.72888     339\n",
      "4       37571.47119     314\n",
      "..              ...     ...\n",
      "113     19701.59765     102\n",
      "114     30583.18450     102\n",
      "115     23028.57891     102\n",
      "116     36237.19642     101\n",
      "117     50597.15400     100\n",
      "\n",
      "[118 rows x 2 columns]\n",
      "     tradeSecNum  counts\n",
      "0            441     697\n",
      "1            306     550\n",
      "2            391     527\n",
      "3            363     508\n",
      "4            180     469\n",
      "..           ...     ...\n",
      "155          364     102\n",
      "156          532     102\n",
      "157           44     102\n",
      "158           86     100\n",
      "159          239     100\n",
      "\n",
      "[160 rows x 2 columns]\n",
      "     totalNewTradeMoney  counts\n",
      "0                     0    8179\n",
      "1             638574496     384\n",
      "2             108869018     374\n",
      "3               1116882     339\n",
      "4            2128312204     314\n",
      "..                  ...     ...\n",
      "96            260169631     102\n",
      "97            106014227     102\n",
      "98            213716448     102\n",
      "99              1160536     102\n",
      "100          1454843920     101\n",
      "\n",
      "[101 rows x 2 columns]\n",
      "     totalNewTradeArea  counts\n",
      "0                    0    8179\n",
      "1                15669     384\n",
      "2                 1528     374\n",
      "3                  197     356\n",
      "4                   63     339\n",
      "..                 ...     ...\n",
      "103                 95     102\n",
      "104               3652     102\n",
      "105               3461     102\n",
      "106               1881     102\n",
      "107              41648     101\n",
      "\n",
      "[108 rows x 2 columns]\n",
      "     tradeNewMeanPrice  counts\n",
      "0             0.000000    8179\n",
      "1         40754.004470     384\n",
      "2         71249.357330     374\n",
      "3         17728.285710     339\n",
      "4         35108.497120     314\n",
      "..                 ...     ...\n",
      "96       113618.526300     102\n",
      "97         4220.130909     102\n",
      "98        29029.087350     102\n",
      "99        75171.809010     102\n",
      "100       34931.903570     101\n",
      "\n",
      "[101 rows x 2 columns]\n",
      "    tradeNewNum  counts\n",
      "0             0    8179\n",
      "1             1    3747\n",
      "2             2    3293\n",
      "3             6    1249\n",
      "4             4    1208\n",
      "..          ...     ...\n",
      "81          294     112\n",
      "82           99     105\n",
      "83          113     105\n",
      "84          243     103\n",
      "85          391     101\n",
      "\n",
      "[86 rows x 2 columns]\n",
      "     remainNewNum  counts\n",
      "0               2    1305\n",
      "1               0    1275\n",
      "2              17    1051\n",
      "3               7     851\n",
      "4              86     783\n",
      "..            ...     ...\n",
      "137           122     102\n",
      "138           355     102\n",
      "139           348     102\n",
      "140          2151     101\n",
      "141           301     100\n",
      "\n",
      "[142 rows x 2 columns]\n",
      "    supplyNewNum  counts\n",
      "0              0   33077\n",
      "1            328     366\n",
      "2            480     333\n",
      "3            422     278\n",
      "4            350     224\n",
      "5            538     209\n",
      "6            147     208\n",
      "7            444     205\n",
      "8             38     201\n",
      "9            889     199\n",
      "10           402     194\n",
      "11           126     183\n",
      "12           360     183\n",
      "13           564     180\n",
      "14           376     179\n",
      "15           242     171\n",
      "16           588     160\n",
      "17           373     158\n",
      "18           141     158\n",
      "19          1046     151\n",
      "20           437     151\n",
      "21            57     143\n",
      "22           484     138\n",
      "23          1015     131\n",
      "24           204     130\n",
      "25           586     117\n",
      "26           283     114\n",
      "27           103     102\n",
      "28           266     102\n",
      "29           539     101\n",
      "   supplyLandNum  counts\n",
      "0              0   36356\n",
      "1              1    3142\n",
      "2              2    1537\n",
      "3              3     405\n",
      "    supplyLandArea  counts\n",
      "0             0.00   36356\n",
      "1         90735.72     384\n",
      "2         69919.92     255\n",
      "3        105389.75     201\n",
      "4         50803.74     199\n",
      "5        255930.40     194\n",
      "6        119850.56     183\n",
      "7        187973.55     180\n",
      "8         59981.40     179\n",
      "9        138730.80     175\n",
      "10       243769.88     160\n",
      "11       135592.82     152\n",
      "12        92751.20     149\n",
      "13       128074.77     143\n",
      "14       113075.80     137\n",
      "15        88880.66     131\n",
      "16       170720.70     130\n",
      "17       411876.30     130\n",
      "18       120615.78     121\n",
      "19       112848.48     110\n",
      "20       116648.64     106\n",
      "21        59519.90     102\n",
      "   tradeLandNum  counts\n",
      "0             0   37691\n",
      "1             1    2348\n",
      "2             2     749\n",
      "3             3     492\n",
      "4             5     160\n",
      "    tradeLandArea  counts\n",
      "0            0.00   37691\n",
      "1       112848.48     384\n",
      "2        50803.74     199\n",
      "3       162127.95     194\n",
      "4       237828.35     180\n",
      "5        25923.12     179\n",
      "6       382500.68     160\n",
      "7       255443.38     143\n",
      "8       128074.77     141\n",
      "9       203724.72     138\n",
      "10       88880.66     131\n",
      "11      197633.56     130\n",
      "12      180222.60     130\n",
      "13      190535.70     114\n",
      "14      229724.44     106\n",
      "15       59519.90     102\n",
      "    landTotalPrice  counts\n",
      "0                0   37691\n",
      "1        400600000     384\n",
      "2        182500000     199\n",
      "3       2238680000     194\n",
      "4       1078790000     180\n",
      "5         88840000     179\n",
      "6       1065270000     160\n",
      "7       4640750000     143\n",
      "8       1024600000     141\n",
      "9       4278220000     138\n",
      "10      1015190000     131\n",
      "11       551480000     130\n",
      "12      1136400000     130\n",
      "13      2660380000     114\n",
      "14      1086940000     106\n",
      "15       253960000     102\n",
      "    landMeanPrice  counts\n",
      "0        0.000000   37691\n",
      "1     3549.892741     384\n",
      "2     3592.255216     199\n",
      "3    13808.106500     194\n",
      "4     3427.056620     179\n",
      "5     4536.002541     172\n",
      "6     2785.014657     160\n",
      "7    18167.431080     143\n",
      "8    21000.004320     138\n",
      "9     8000.014367     137\n",
      "10   11421.944890     131\n",
      "11    5750.035571     130\n",
      "12    3059.993586     125\n",
      "13   13962.632720     114\n",
      "14    4731.494829     106\n",
      "15    4266.808244     102\n",
      "    totalWorkers  counts\n",
      "0           4370    2043\n",
      "1          28546    1958\n",
      "2          50134    1837\n",
      "3          46725    1816\n",
      "4         388879    1516\n",
      "5          48204    1375\n",
      "6           5622    1305\n",
      "7          68476    1266\n",
      "8           8498    1256\n",
      "9           8750    1253\n",
      "10         19615    1227\n",
      "11         34941    1156\n",
      "12        120140    1137\n",
      "13          4420    1016\n",
      "14         77645     979\n",
      "15        253330     930\n",
      "16         76668     906\n",
      "17         14455     880\n",
      "18         19151     849\n",
      "19         41503     834\n",
      "20        166244     819\n",
      "21         74225     745\n",
      "22         17401     679\n",
      "23        855400     671\n",
      "24        133074     651\n",
      "25         49805     646\n",
      "26         20904     618\n",
      "27          5271     614\n",
      "28         45310     613\n",
      "29         13192     610\n",
      "30         28248     590\n",
      "31         55462     549\n",
      "32         34823     523\n",
      "33         12003     500\n",
      "34          3162     498\n",
      "35         88718     455\n",
      "36         77347     444\n",
      "37        171475     435\n",
      "38        120755     412\n",
      "39         13983     398\n",
      "40        102958     397\n",
      "41         23762     357\n",
      "42         38947     348\n",
      "43        349715     344\n",
      "44         11209     343\n",
      "45         15495     281\n",
      "46         36894     278\n",
      "47          3725     253\n",
      "48         47329     231\n",
      "49          4683     219\n",
      "50         90828     219\n",
      "51         14823     211\n",
      "52         32328     189\n",
      "53          4907     165\n",
      "54        338301     157\n",
      "55         93770     127\n",
      "56         18000     122\n",
      "    newWorkers  counts\n",
      "0            0   34416\n",
      "1          724     158\n",
      "2          765     152\n",
      "3          657     143\n",
      "4         5185     141\n",
      "5          458     139\n",
      "6         4506     130\n",
      "7        28313     109\n",
      "8         1467     109\n",
      "9         3866     107\n",
      "10       20898     102\n",
      "    residentPopulation  counts\n",
      "0               306857    2043\n",
      "1               371900    1958\n",
      "2               226469    1837\n",
      "3               928198    1816\n",
      "4               491767    1516\n",
      "5               719428    1375\n",
      "6               210903    1305\n",
      "7               248647    1266\n",
      "8               428071    1256\n",
      "9               253337    1253\n",
      "10              274232    1227\n",
      "11              330610    1156\n",
      "12              589930    1137\n",
      "13              165293    1016\n",
      "14              131744     979\n",
      "15              165159     930\n",
      "16              207376     906\n",
      "17              126959     880\n",
      "18              187939     849\n",
      "19              301635     834\n",
      "20              190706     819\n",
      "21              318387     745\n",
      "22              319860     679\n",
      "23              161754     671\n",
      "24              134380     651\n",
      "25               98604     646\n",
      "26              245872     618\n",
      "27              201051     614\n",
      "28              260515     613\n",
      "29              406803     610\n",
      "30              111546     590\n",
      "31              205114     549\n",
      "32              182871     523\n",
      "33               97196     500\n",
      "34               52091     498\n",
      "35              194111     455\n",
      "36              153762     444\n",
      "37              130886     435\n",
      "38              309216     412\n",
      "39              223020     398\n",
      "40               70013     397\n",
      "41              196135     357\n",
      "42              157682     348\n",
      "43              266779     344\n",
      "44              134822     343\n",
      "45               49330     281\n",
      "46              423445     278\n",
      "47               63153     253\n",
      "48              107099     231\n",
      "49              224753     219\n",
      "50               95192     219\n",
      "51              157552     211\n",
      "52               84876     189\n",
      "53               92892     165\n",
      "54              102698     157\n",
      "55              186642     127\n"
     ]
    },
    {
     "name": "stdout",
     "output_type": "stream",
     "text": [
      "56              128045     122\n",
      "           pv  counts\n",
      "0     52511.0     384\n",
      "1     17471.0     374\n",
      "2     25211.0     339\n",
      "3     61150.0     314\n",
      "4     42301.0     313\n",
      "..        ...     ...\n",
      "114    1915.0     102\n",
      "115   17732.0     102\n",
      "116   13985.0     102\n",
      "117  147221.0     101\n",
      "118   19407.0     100\n",
      "\n",
      "[119 rows x 2 columns]\n",
      "          uv  counts\n",
      "0     4868.0     384\n",
      "1     2554.0     374\n",
      "2     2889.0     342\n",
      "3     2187.0     339\n",
      "4     5822.0     314\n",
      "..       ...     ...\n",
      "121   8513.0     102\n",
      "122   3465.0     102\n",
      "123   1973.0     102\n",
      "124  11867.0     101\n",
      "125   2950.0     100\n",
      "\n",
      "[126 rows x 2 columns]\n",
      "   lookNum  counts\n",
      "0        0   37194\n",
      "1        1    1159\n",
      "2        2     903\n",
      "3        3     565\n",
      "4        4     404\n",
      "5        5     295\n",
      "6        6     211\n",
      "7        7     154\n",
      "8        8     134\n",
      "      tradeTime  counts\n",
      "0      2018/3/3     543\n",
      "1      2018/3/4     487\n",
      "2     2018/3/11     410\n",
      "3     2018/3/10     400\n",
      "4     2018/3/24     341\n",
      "..          ...     ...\n",
      "179    2018/7/4     100\n",
      "180   2018/5/25     100\n",
      "181    2018/9/6     100\n",
      "182    2018/9/3     100\n",
      "183  2018/11/25     100\n",
      "\n",
      "[184 rows x 2 columns]\n",
      "    tradeMoney  counts\n",
      "0       4000.0    1450\n",
      "1       3500.0    1345\n",
      "2       4500.0    1222\n",
      "3       3000.0    1209\n",
      "4       5000.0    1165\n",
      "..         ...     ...\n",
      "83      1200.0     110\n",
      "84      8800.0     107\n",
      "85      2790.0     107\n",
      "86      6400.0     106\n",
      "87      1730.0     103\n",
      "\n",
      "[88 rows x 2 columns]\n"
     ]
    }
   ],
   "source": [
    "# 统计特征值出现频次大于100的特征\n",
    "for feature in data_train.columns:\n",
    "    df_value_counts = pd.DataFrame(data_train[feature].value_counts())\n",
    "    df_value_counts = df_value_counts.reset_index()\n",
    "    df_value_counts.columns = [feature, 'counts'] # change column names\n",
    "    print(df_value_counts[df_value_counts['counts'] >= 100])"
   ]
  },
  {
   "cell_type": "code",
   "execution_count": 43,
   "metadata": {},
   "outputs": [
    {
     "data": {
      "text/plain": [
       "<matplotlib.axes._subplots.AxesSubplot at 0x1bff8904048>"
      ]
     },
     "execution_count": 43,
     "metadata": {},
     "output_type": "execute_result"
    },
    {
     "data": {
      "image/png": "[encoded data removed]",
      "text/plain": [
       "<Figure size 1440x864 with 6 Axes>"
      ]
     },
     "metadata": {
      "needs_background": "light"
     },
     "output_type": "display_data"
    }
   ],
   "source": [
    "# Labe 分布\n",
    "fig,axes = plt.subplots(2,3,figsize=(20,5))\n",
    "fig.set_size_inches(20,12)\n",
    "sns.distplot(data_train['tradeMoney'],ax=axes[0][0])\n",
    "sns.distplot(data_train[(data_train['tradeMoney']<=20000)]['tradeMoney'],ax=axes[0][1])\n",
    "sns.distplot(data_train[(data_train['tradeMoney']>20000)&(data_train['tradeMoney']<=50000)]['tradeMoney'],ax=axes[0][2])\n",
    "sns.distplot(data_train[(data_train['tradeMoney']>50000)&(data_train['tradeMoney']<=100000)]['tradeMoney'],ax=axes[1][0])\n",
    "sns.distplot(data_train[(data_train['tradeMoney']>100000)]['tradeMoney'],ax=axes[1][1])"
   ]
  },
  {
   "cell_type": "code",
   "execution_count": 44,
   "metadata": {},
   "outputs": [
    {
     "name": "stdout",
     "output_type": "stream",
     "text": [
      "money<=10000 38964\n",
      "10000<money<=20000 1985\n",
      "20000<money<=50000 433\n",
      "50000<money<=100000 39\n",
      "100000<money 19\n"
     ]
    }
   ],
   "source": [
    "print(\"money<=10000\",len(data_train[(data_train['tradeMoney']<=10000)]['tradeMoney']))\n",
    "print(\"10000<money<=20000\",len(data_train[(data_train['tradeMoney']>10000)&(data_train['tradeMoney']<=20000)]['tradeMoney']))\n",
    "print(\"20000<money<=50000\",len(data_train[(data_train['tradeMoney']>20000)&(data_train['tradeMoney']<=50000)]['tradeMoney']))\n",
    "print(\"50000<money<=100000\",len(data_train[(data_train['tradeMoney']>50000)&(data_train['tradeMoney']<=100000)]['tradeMoney']))\n",
    "print(\"100000<money\",len(data_train[(data_train['tradeMoney']>100000)]['tradeMoney']))"
   ]
  },
  {
   "cell_type": "code",
   "execution_count": null,
   "metadata": {},
   "outputs": [],
   "source": []
  }
 ],
 "metadata": {
  "kernelspec": {
   "display_name": "Python 3",
   "language": "python",
   "name": "python3"
  },
  "language_info": {
   "codemirror_mode": {
    "name": "ipython",
    "version": 3
   },
   "file_extension": ".py",
   "mimetype": "text/x-python",
   "name": "python",
   "nbconvert_exporter": "python",
   "pygments_lexer": "ipython3",
   "version": "3.6.5"
  }
 },
 "nbformat": 4,
 "nbformat_minor": 2
}
